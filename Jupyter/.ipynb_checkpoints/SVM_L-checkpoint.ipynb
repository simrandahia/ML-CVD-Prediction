{
 "cells": [
  {
   "cell_type": "code",
   "execution_count": 1,
   "metadata": {
    "colab": {
     "base_uri": "https://localhost:8080/"
    },
    "id": "GYyL10oC8Kpm",
    "outputId": "2d643ca9-19c6-4915-a2a2-49e1a52c9a45"
   },
   "outputs": [
    {
     "name": "stderr",
     "output_type": "stream",
     "text": [
      "/Users/simran/opt/anaconda3/lib/python3.9/site-packages/sklearn/model_selection/_split.py:680: UserWarning: The least populated class in y has only 9 members, which is less than n_splits=10.\n",
      "  warnings.warn(\n"
     ]
    },
    {
     "name": "stdout",
     "output_type": "stream",
     "text": [
      "Cross-validation scores: [0.64       0.64       0.66666667 0.54166667 0.58333333 0.45833333\n",
      " 0.625      0.58333333 0.54166667 0.5       ]\n",
      "Mean cross-validation score: 0.5780000000000001\n",
      "Accuracy: 0.5573770491803278\n",
      "Precision: 0.506791569086651\n",
      "Recall: 0.5573770491803278\n",
      "F1 score: 0.5230374181596712\n"
     ]
    },
    {
     "name": "stderr",
     "output_type": "stream",
     "text": [
      "/Users/simran/opt/anaconda3/lib/python3.9/site-packages/sklearn/metrics/_classification.py:1327: UndefinedMetricWarning: Precision is ill-defined and being set to 0.0 in labels with no predicted samples. Use `zero_division` parameter to control this behavior.\n",
      "  _warn_prf(average, modifier, msg_start, len(result))\n"
     ]
    }
   ],
   "source": [
    "import pandas as pd\n",
    "import numpy as np\n",
    "from sklearn.model_selection import train_test_split, cross_val_score\n",
    "from sklearn.svm import SVC\n",
    "from sklearn.metrics import accuracy_score, precision_score, recall_score, f1_score\n",
    "\n",
    "# Load the dataset with column names\n",
    "url = \"https://archive.ics.uci.edu/ml/machine-learning-databases/heart-disease/processed.cleveland.data\"\n",
    "column_names = ['age', 'sex', 'cp', 'trestbps', 'chol', 'fbs', 'restecg', \n",
    "                'thalach', 'exang', 'oldpeak', 'slope', 'ca', 'thal', 'target']\n",
    "data = pd.read_csv(url, header=None, names=column_names)\n",
    "\n",
    "# Replace \"?\" values with NaN values\n",
    "data.replace(\"?\", np.nan, inplace=True)\n",
    "\n",
    "# Impute missing values with column means\n",
    "data = data.astype(float)\n",
    "means = data.mean()\n",
    "data.fillna(means, inplace=True)\n",
    "\n",
    "# Split the dataset into training and test sets\n",
    "X = data.iloc[:, :-1]\n",
    "y = data.iloc[:, -1]\n",
    "X_train, X_test, y_train, y_test = train_test_split(X, y, test_size=0.2, random_state=42)\n",
    "\n",
    "# Train the SVM model using 10-fold cross-validation\n",
    "svm = SVC(kernel='linear')\n",
    "scores = cross_val_score(svm, X_train, y_train, cv=10)\n",
    "\n",
    "# Print the cross-validation scores\n",
    "print(\"Cross-validation scores:\", scores)\n",
    "print(\"Mean cross-validation score:\", np.mean(scores))\n",
    "\n",
    "# Fit the SVM model on the training set\n",
    "svm.fit(X_train, y_train)\n",
    "\n",
    "# Predict the classes of the test set\n",
    "y_pred = svm.predict(X_test)\n",
    "\n",
    "# Evaluate the accuracy, precision, recall, and F1 score of the model\n",
    "accuracy = accuracy_score(y_test, y_pred)\n",
    "precision = precision_score(y_test, y_pred, average='weighted', )\n",
    "recall = recall_score(y_test, y_pred, average='weighted')\n",
    "f1 = f1_score(y_test, y_pred, average='weighted')\n",
    "print(\"Accuracy:\", accuracy)\n",
    "print(\"Precision:\", precision)\n",
    "print(\"Recall:\", recall)\n",
    "print(\"F1 score:\", f1)\n",
    "\n"
   ]
  },
  {
   "cell_type": "code",
   "execution_count": 2,
   "metadata": {
    "colab": {
     "base_uri": "https://localhost:8080/"
    },
    "id": "Q5_0in4A8RK_",
    "outputId": "2b3a0686-f3e5-42f6-988d-29ac81023280"
   },
   "outputs": [
    {
     "name": "stdout",
     "output_type": "stream",
     "text": [
      "Enter age: 56\n",
      "Enter sex: 1\n",
      "Enter cp chest pain type (1 to 4): 3\n",
      "Enter trestbps resting bp: 115\n",
      "Enter chol (mg/dl): 200\n",
      "Enter fbs: blood sugar less than 120 (t/f)1\n",
      "Enter restecg: 2\n",
      "Enter thalach maximum heart rate achieved: 180\n",
      "Enter exang exercise induced angina (1 = yes; 0 = no): 1\n",
      "Enter oldpeak ST depression induced by exercise relative to rest: 23\n",
      "Enter slope the slope of the peak exercise ST segment-- Value 1: upsloping-- Value 2: flat-- Value 3: downsloping: 3\n",
      "Enter ca: number of major vessels (0-3) colored by flourosopy : 2\n",
      "Enter thal: thal: 3 = normal; 6 = fixed defect; 7 = reversable defect : 3\n",
      "RISK (out of 4):  [3.]\n"
     ]
    },
    {
     "name": "stderr",
     "output_type": "stream",
     "text": [
      "/Users/simran/opt/anaconda3/lib/python3.9/site-packages/sklearn/base.py:450: UserWarning: X does not have valid feature names, but SVC was fitted with feature names\n",
      "  warnings.warn(\n"
     ]
    }
   ],
   "source": [
    "# take an input for all 13 parameters\n",
    "age = int(input(\"Enter age: \"))\n",
    "sex = int(input(\"Enter sex: \"))\n",
    "cp = int(input(\"Enter cp chest pain type (1 to 4): \"))\n",
    "trestbps = int(input(\"Enter trestbps resting bp: \"))\n",
    "chol = int(input(\"Enter chol (mg/dl): \"))\n",
    "fbs = int(input(\"Enter fbs: blood sugar less than 120 (t/f)\"))\n",
    "restecg = int(input(\"Enter restecg: \"))\n",
    "thalach = int(input(\"Enter thalach maximum heart rate achieved: \"))\n",
    "exang = int(input(\"Enter exang exercise induced angina (1 = yes; 0 = no): \"))\n",
    "oldpeak = int(input(\"Enter oldpeak ST depression induced by exercise relative to rest: \"))\n",
    "slope = int(input(\"Enter slope the slope of the peak exercise ST segment-- Value 1: upsloping-- Value 2: flat-- Value 3: downsloping: \"))\n",
    "ca = int(input(\"Enter ca: number of major vessels (0-3) colored by flourosopy : \"))\n",
    "thal = int(input(\"Enter thal: thal: 3 = normal; 6 = fixed defect; 7 = reversable defect : \"))\n",
    "# create a list of all the parameters \n",
    "inp = [[age, sex, cp, trestbps, chol, fbs, restecg, thalach, exang, oldpeak, slope, ca, thal]] \n",
    "# create a dataframe from the list\n",
    "# predict\n",
    "\n",
    "pred = svm.predict(inp)\n",
    "print(\"RISK (out of 4): \", pred)\n",
    "\n",
    " "
   ]
  },
  {
   "cell_type": "code",
   "execution_count": null,
   "metadata": {
    "id": "H1ITElJj8Ria"
   },
   "outputs": [],
   "source": []
  }
 ],
 "metadata": {
  "colab": {
   "provenance": []
  },
  "kernelspec": {
   "display_name": "Python 3 (ipykernel)",
   "language": "python",
   "name": "python3"
  },
  "language_info": {
   "codemirror_mode": {
    "name": "ipython",
    "version": 3
   },
   "file_extension": ".py",
   "mimetype": "text/x-python",
   "name": "python",
   "nbconvert_exporter": "python",
   "pygments_lexer": "ipython3",
   "version": "3.9.13"
  }
 },
 "nbformat": 4,
 "nbformat_minor": 1
}
